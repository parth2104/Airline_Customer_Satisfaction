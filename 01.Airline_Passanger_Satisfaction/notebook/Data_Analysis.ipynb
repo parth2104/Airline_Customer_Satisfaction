{
 "cells": [
  {
   "cell_type": "markdown",
   "metadata": {},
   "source": [
    "<h1 style=\"color:OrangeRed; font-style:italic; font-family:Georgia;\">🚀 Machine Learning Lifecycle</h1>\n",
    "\n",
    "<h5 style=\"color:Orange; font-style:italic; font-family:'Courier New'; font-weight:bold;\">📊 Problem Definition: Clearly identify the problem to be solved using machine learning.</h5>\n",
    "\n",
    "<h5 style=\"color:Orange; font-style:italic; font-family:'Courier New'; font-weight:bold;\">📊 Data Collection: Gather relevant data from various sources for analysis.</h5>\n",
    "\n",
    "<h5 style=\"color:Orange; font-style:italic; font-family:'Courier New'; font-weight:bold;\">📊 Data Cleaning: Handle missing data, remove duplicates, and correct errors.</h5>\n",
    "\n",
    "<h5 style=\"color:Orange; font-style:italic; font-family:'Courier New'; font-weight:bold;\">📊 Exploratory Data Analysis (EDA): Explore data patterns, trends, and relationships.</h5>\n",
    "\n",
    "<h5 style=\"color:Orange; font-style:italic; font-family:'Courier New'; font-weight:bold;\">📊 Feature Engineering: Create new features or transform existing ones to boost model performance.</h5>\n",
    "\n",
    "<h5 style=\"color:Orange; font-style:italic; font-family:'Courier New'; font-weight:bold;\">📊 Data Preprocessing: Scale, encode, and split data for training and testing.</h5>\n",
    "\n",
    "<h5 style=\"color:Orange; font-style:italic; font-family:'Courier New'; font-weight:bold;\">📊 Model Selection: Choose suitable algorithms based on the problem type (classification, regression, clustering).</h5>\n",
    "\n",
    "<h5 style=\"color:Orange; font-style:italic; font-family:'Courier New'; font-weight:bold;\">📊 Model Training: Train the selected model using preprocessed data.</h5>\n",
    "\n",
    "<h5 style=\"color:Orange; font-style:italic; font-family:'Courier New'; font-weight:bold;\">📊 Hyperparameter Tuning: Adjust model parameters to improve accuracy and reduce errors.</h5>\n",
    "\n",
    "<h5 style=\"color:Orange; font-style:italic; font-family:'Courier New'; font-weight:bold;\">📊 Model Evaluation: Validate model performance using appropriate metrics (e.g., accuracy, RMSE, F1-score).</h5>\n",
    "\n",
    "<h5 style=\"color:Orange; font-style:italic; font-family:'Courier New'; font-weight:bold;\">📊 Model Saving: Save the trained model for future use.</h5>\n",
    "\n",
    "<h5 style=\"color:Orange; font-style:italic; font-family:'Courier New'; font-weight:bold;\">📊 Model Deployment: Integrate the model into applications or systems for real-time predictions.</h5>\n",
    "\n",
    "<h5 style=\"color:Orange; font-style:italic; font-family:'Courier New'; font-weight:bold;\">📊 Model Monitoring & Maintenance: Continuously monitor performance and retrain as needed.</h5>\n"
   ]
  },
  {
   "cell_type": "markdown",
   "metadata": {},
   "source": [
    "<hr style=\"border-top: 3px solid blue;\">"
   ]
  },
  {
   "cell_type": "markdown",
   "metadata": {},
   "source": [
    "<h1 style=\"font-family:'Poppins', sans-serif; color:rgb(3, 105, 206);  text-align: center;\">Importing the Required Libraries</h1>"
   ]
  },
  {
   "cell_type": "code",
   "execution_count": 1,
   "metadata": {},
   "outputs": [],
   "source": [
    "import pandas as pd\n",
    "import numpy as np\n",
    "import matplotlib as plt\n",
    "import seaborn as sns\n",
    "import pymongo \n",
    "\n",
    "\n",
    "import os \n",
    "from dotenv import load_dotenv"
   ]
  },
  {
   "cell_type": "markdown",
   "metadata": {},
   "source": [
    "<h2 style=\"color:Lime;font-style:italic; font-family:Georgia\">About Features:</h2>"
   ]
  },
  {
   "cell_type": "markdown",
   "metadata": {},
   "source": []
  },
  {
   "cell_type": "markdown",
   "metadata": {},
   "source": [
    "<hr style=\"border-top: 3px solid blue;\">"
   ]
  },
  {
   "cell_type": "markdown",
   "metadata": {},
   "source": [
    "<h1 style=\"font-family:'Poppins', sans-serif; color:rgb(3, 105, 206);  text-align: center;\">Reading the Dataset from Database</h1>"
   ]
  },
  {
   "cell_type": "code",
   "execution_count": 2,
   "metadata": {},
   "outputs": [
    {
     "data": {
      "text/html": [
       "<div>\n",
       "<style scoped>\n",
       "    .dataframe tbody tr th:only-of-type {\n",
       "        vertical-align: middle;\n",
       "    }\n",
       "\n",
       "    .dataframe tbody tr th {\n",
       "        vertical-align: top;\n",
       "    }\n",
       "\n",
       "    .dataframe thead th {\n",
       "        text-align: right;\n",
       "    }\n",
       "</style>\n",
       "<table border=\"1\" class=\"dataframe\">\n",
       "  <thead>\n",
       "    <tr style=\"text-align: right;\">\n",
       "      <th></th>\n",
       "    </tr>\n",
       "  </thead>\n",
       "  <tbody>\n",
       "  </tbody>\n",
       "</table>\n",
       "</div>"
      ],
      "text/plain": [
       "Empty DataFrame\n",
       "Columns: []\n",
       "Index: []"
      ]
     },
     "execution_count": 2,
     "metadata": {},
     "output_type": "execute_result"
    }
   ],
   "source": [
    "# Our MongoDB Atlas Connection url where clustername is Shipment\n",
    "\n",
    "Connection_url = os.getenv(\"MONGO_URL\")\n",
    "# Connect to MongoDB Atlas\n",
    "client = pymongo.MongoClient(Connection_url)\n",
    "\n",
    "\n",
    "# Select the database and collection\n",
    "db = client[\"new1_DB\"]  # Replace with our database name\n",
    "collection = db[\"new1_Collection\"]  # Replace with our collection name\n",
    "\n",
    "# Query data\n",
    "data = collection.find()\n",
    "\n",
    "# Convert data to DataFrame\n",
    "data = pd.DataFrame(list(data))\n",
    "\n",
    "# Display the DataFrame\n",
    "data.head()"
   ]
  },
  {
   "cell_type": "markdown",
   "metadata": {},
   "source": [
    "<hr style=\"border-top: 3px solid blue;\">"
   ]
  },
  {
   "cell_type": "code",
   "execution_count": 3,
   "metadata": {},
   "outputs": [
    {
     "data": {
      "text/html": [
       "<div>\n",
       "<style scoped>\n",
       "    .dataframe tbody tr th:only-of-type {\n",
       "        vertical-align: middle;\n",
       "    }\n",
       "\n",
       "    .dataframe tbody tr th {\n",
       "        vertical-align: top;\n",
       "    }\n",
       "\n",
       "    .dataframe thead th {\n",
       "        text-align: right;\n",
       "    }\n",
       "</style>\n",
       "<table border=\"1\" class=\"dataframe\">\n",
       "  <thead>\n",
       "    <tr style=\"text-align: right;\">\n",
       "      <th></th>\n",
       "    </tr>\n",
       "  </thead>\n",
       "  <tbody>\n",
       "  </tbody>\n",
       "</table>\n",
       "</div>"
      ],
      "text/plain": [
       "Empty DataFrame\n",
       "Columns: []\n",
       "Index: []"
      ]
     },
     "execution_count": 3,
     "metadata": {},
     "output_type": "execute_result"
    }
   ],
   "source": [
    "data.head()"
   ]
  },
  {
   "cell_type": "code",
   "execution_count": 4,
   "metadata": {},
   "outputs": [],
   "source": [
    "pd.set_option('display.max_rows', None)  \n",
    "pd.set_option('display.max_columns', None)"
   ]
  },
  {
   "cell_type": "code",
   "execution_count": null,
   "metadata": {},
   "outputs": [],
   "source": []
  },
  {
   "cell_type": "code",
   "execution_count": 5,
   "metadata": {},
   "outputs": [
    {
     "data": {
      "text/html": [
       "<div>\n",
       "<style scoped>\n",
       "    .dataframe tbody tr th:only-of-type {\n",
       "        vertical-align: middle;\n",
       "    }\n",
       "\n",
       "    .dataframe tbody tr th {\n",
       "        vertical-align: top;\n",
       "    }\n",
       "\n",
       "    .dataframe thead th {\n",
       "        text-align: right;\n",
       "    }\n",
       "</style>\n",
       "<table border=\"1\" class=\"dataframe\">\n",
       "  <thead>\n",
       "    <tr style=\"text-align: right;\">\n",
       "      <th></th>\n",
       "    </tr>\n",
       "  </thead>\n",
       "  <tbody>\n",
       "  </tbody>\n",
       "</table>\n",
       "</div>"
      ],
      "text/plain": [
       "Empty DataFrame\n",
       "Columns: []\n",
       "Index: []"
      ]
     },
     "execution_count": 5,
     "metadata": {},
     "output_type": "execute_result"
    }
   ],
   "source": [
    "data.head()"
   ]
  },
  {
   "cell_type": "markdown",
   "metadata": {},
   "source": [
    "<h1 style=\"font-family:'Poppins', sans-serif; color:rgb(3, 105, 206);  text-align: center;\">Data Exploration</h1>"
   ]
  },
  {
   "cell_type": "markdown",
   "metadata": {},
   "source": [
    "<h2 style=\"font-family: 'Arial', sans-serif; font-size: 1.5em; font-weight: bold; color:rgb(179, 14, 143);\">✨Overview of Top and Bottom Rows of the Dataset</h2>\n"
   ]
  },
  {
   "cell_type": "code",
   "execution_count": null,
   "metadata": {},
   "outputs": [],
   "source": []
  },
  {
   "cell_type": "markdown",
   "metadata": {},
   "source": [
    "<h2 style=\"font-family: 'Arial', sans-serif; font-size: 1.5em; font-weight: bold; color:rgb(179, 14, 143);\">✨Checking for Columns/Features Present</h2>\n"
   ]
  },
  {
   "cell_type": "code",
   "execution_count": null,
   "metadata": {},
   "outputs": [],
   "source": []
  },
  {
   "cell_type": "markdown",
   "metadata": {},
   "source": [
    "<h2 style=\"font-family: 'Arial', sans-serif; font-size: 1.5em; font-weight: bold; color:rgb(179, 14, 143);\">✨Random Sample of the Data</h2>"
   ]
  },
  {
   "cell_type": "code",
   "execution_count": null,
   "metadata": {},
   "outputs": [],
   "source": []
  },
  {
   "cell_type": "markdown",
   "metadata": {},
   "source": [
    "<h2 style=\"font-family: 'Arial', sans-serif; font-size: 1.5em; font-weight: bold; color:rgb(179, 14, 143);\">✨Checking DataType and  Information of the Dataset</h2>"
   ]
  },
  {
   "cell_type": "markdown",
   "metadata": {},
   "source": []
  },
  {
   "cell_type": "markdown",
   "metadata": {},
   "source": [
    "<h2 style=\"font-family: 'Arial', sans-serif; font-size: 1.5em; font-weight: bold; color:rgb(179, 14, 143);\">✨Checking for Null Values?</h2>"
   ]
  },
  {
   "cell_type": "code",
   "execution_count": null,
   "metadata": {},
   "outputs": [],
   "source": []
  },
  {
   "cell_type": "markdown",
   "metadata": {},
   "source": [
    "<h2 style=\"font-family: 'Arial', sans-serif; font-size: 1.5em; font-weight: bold; color:rgb(179, 14, 143);\">✨Checking for Duplicate Values?</h2>"
   ]
  },
  {
   "cell_type": "code",
   "execution_count": null,
   "metadata": {},
   "outputs": [],
   "source": []
  },
  {
   "cell_type": "code",
   "execution_count": null,
   "metadata": {},
   "outputs": [],
   "source": []
  },
  {
   "cell_type": "markdown",
   "metadata": {},
   "source": [
    "<h2 style=\"font-family: 'Arial', sans-serif; font-size: 1.5em; font-weight: bold; color:rgb(179, 14, 143);\">✨Checking for Number of Unique Values for each Column</h2>"
   ]
  },
  {
   "cell_type": "code",
   "execution_count": null,
   "metadata": {},
   "outputs": [],
   "source": []
  },
  {
   "cell_type": "markdown",
   "metadata": {},
   "source": [
    "<h2 style=\"font-family: 'Arial', sans-serif; font-size: 1.5em; font-weight: bold; color: rgb(179, 14, 143);\">✨ Identifying Columns with Fewer than 30 Unique Values</h2>\n"
   ]
  },
  {
   "cell_type": "code",
   "execution_count": null,
   "metadata": {},
   "outputs": [],
   "source": []
  },
  {
   "cell_type": "markdown",
   "metadata": {},
   "source": [
    "<h2 style=\"font-family: 'Arial', sans-serif; font-size: 1.5em; font-weight: bold; color: rgb(179, 14, 143);\">✨Checking for value_counts()</h2>\n"
   ]
  },
  {
   "cell_type": "code",
   "execution_count": null,
   "metadata": {},
   "outputs": [],
   "source": []
  },
  {
   "cell_type": "code",
   "execution_count": null,
   "metadata": {},
   "outputs": [],
   "source": []
  },
  {
   "cell_type": "markdown",
   "metadata": {},
   "source": [
    "<h2 style=\"font-family: 'Arial', sans-serif; font-size: 1.5em; font-weight: bold; color:rgb(179, 14, 143);\">✨ Removing Unnecessary Features to Enhance Dataset Quality</h2>\n"
   ]
  },
  {
   "cell_type": "code",
   "execution_count": null,
   "metadata": {},
   "outputs": [],
   "source": []
  },
  {
   "cell_type": "markdown",
   "metadata": {},
   "source": [
    "<h2 style=\"font-family: 'Arial', sans-serif; font-size: 1.5em; font-weight: bold; color: rgb(179, 14, 143);\">✨ Perform Type Casting of Data (DataType Conversion) if Necessary</h2>\n"
   ]
  },
  {
   "cell_type": "code",
   "execution_count": null,
   "metadata": {},
   "outputs": [],
   "source": []
  },
  {
   "cell_type": "code",
   "execution_count": null,
   "metadata": {},
   "outputs": [],
   "source": []
  },
  {
   "cell_type": "markdown",
   "metadata": {},
   "source": [
    "<h2 style=\"font-family: 'Arial', sans-serif; font-size: 1.5em; font-weight: bold; color: rgb(179, 14, 143);\">✨ Summary Statistics for Numerical Data</h2>\n"
   ]
  },
  {
   "cell_type": "code",
   "execution_count": null,
   "metadata": {},
   "outputs": [],
   "source": []
  },
  {
   "cell_type": "code",
   "execution_count": null,
   "metadata": {},
   "outputs": [],
   "source": []
  },
  {
   "cell_type": "markdown",
   "metadata": {},
   "source": [
    "<h2 style=\"font-family: 'Arial', sans-serif; font-size: 1.5em; font-weight: bold; color: rgb(179, 14, 143);\">✨ Summary Statistics for Categorical Data</h2>\n"
   ]
  },
  {
   "cell_type": "code",
   "execution_count": null,
   "metadata": {},
   "outputs": [],
   "source": []
  },
  {
   "cell_type": "code",
   "execution_count": null,
   "metadata": {},
   "outputs": [],
   "source": []
  },
  {
   "cell_type": "markdown",
   "metadata": {},
   "source": [
    "<h2 style=\"font-family: 'Arial', sans-serif; font-size: 1.5em; font-weight: bold; color: rgb(179, 14, 143);\">✨ Segregate Data into Numerical, Categorical, and Datetime Columns</h2>\n"
   ]
  },
  {
   "cell_type": "code",
   "execution_count": null,
   "metadata": {},
   "outputs": [],
   "source": []
  },
  {
   "cell_type": "code",
   "execution_count": null,
   "metadata": {},
   "outputs": [],
   "source": []
  },
  {
   "cell_type": "code",
   "execution_count": null,
   "metadata": {},
   "outputs": [],
   "source": []
  },
  {
   "cell_type": "markdown",
   "metadata": {},
   "source": [
    "example for you.... use the select_dtype() do segregation..."
   ]
  },
  {
   "cell_type": "raw",
   "metadata": {
    "vscode": {
     "languageId": "raw"
    }
   },
   "source": [
    "\n",
    "# Segregate columns\n",
    "numerical_columns = df.select_dtypes(include=['number']).columns.tolist()\n",
    "categorical_columns = df.select_dtypes(include=['object', 'category']).columns.tolist()\n",
    "datetime_columns = df.select_dtypes(include=['datetime']).columns.tolist()\n",
    "\n",
    "# Display the results\n",
    "print(\"Numerical Columns:\", numerical_columns)\n",
    "print(\"Categorical Columns:\", categorical_columns)\n",
    "print(\"Datetime Columns:\", datetime_columns)\n"
   ]
  },
  {
   "cell_type": "markdown",
   "metadata": {},
   "source": [
    "<hr style=\"border-top: 3px solid blue;\">"
   ]
  },
  {
   "cell_type": "markdown",
   "metadata": {},
   "source": []
  }
 ],
 "metadata": {
  "kernelspec": {
   "display_name": "Python 3",
   "language": "python",
   "name": "python3"
  },
  "language_info": {
   "codemirror_mode": {
    "name": "ipython",
    "version": 3
   },
   "file_extension": ".py",
   "mimetype": "text/x-python",
   "name": "python",
   "nbconvert_exporter": "python",
   "pygments_lexer": "ipython3",
   "version": "3.9.0"
  }
 },
 "nbformat": 4,
 "nbformat_minor": 2
}
