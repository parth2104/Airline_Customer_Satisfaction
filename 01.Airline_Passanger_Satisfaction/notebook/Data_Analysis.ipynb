{
 "cells": [
  {
   "cell_type": "markdown",
   "metadata": {},
   "source": [
    "<h1 style=\"color:OrangeRed; font-style:italic; font-family:Georgia;\">🚀 Machine Learning Lifecycle</h1>\n",
    "\n",
    "<h5 style=\"color:Orange; font-style:italic; font-family:'Courier New'; font-weight:bold;\">📊 Problem Definition: Clearly identify the problem to be solved using machine learning.</h5>\n",
    "\n",
    "<h5 style=\"color:Orange; font-style:italic; font-family:'Courier New'; font-weight:bold;\">📊 Data Collection: Gather relevant data from various sources for analysis.</h5>\n",
    "\n",
    "<h5 style=\"color:Orange; font-style:italic; font-family:'Courier New'; font-weight:bold;\">📊 Data Cleaning: Handle missing data, remove duplicates, and correct errors.</h5>\n",
    "\n",
    "<h5 style=\"color:Orange; font-style:italic; font-family:'Courier New'; font-weight:bold;\">📊 Exploratory Data Analysis (EDA): Explore data patterns, trends, and relationships.</h5>\n",
    "\n",
    "<h5 style=\"color:Orange; font-style:italic; font-family:'Courier New'; font-weight:bold;\">📊 Feature Engineering: Create new features or transform existing ones to boost model performance.</h5>\n",
    "\n",
    "<h5 style=\"color:Orange; font-style:italic; font-family:'Courier New'; font-weight:bold;\">📊 Data Preprocessing: Scale, encode, and split data for training and testing.</h5>\n",
    "\n",
    "<h5 style=\"color:Orange; font-style:italic; font-family:'Courier New'; font-weight:bold;\">📊 Model Selection: Choose suitable algorithms based on the problem type (classification, regression, clustering).</h5>\n",
    "\n",
    "<h5 style=\"color:Orange; font-style:italic; font-family:'Courier New'; font-weight:bold;\">📊 Model Training: Train the selected model using preprocessed data.</h5>\n",
    "\n",
    "<h5 style=\"color:Orange; font-style:italic; font-family:'Courier New'; font-weight:bold;\">📊 Hyperparameter Tuning: Adjust model parameters to improve accuracy and reduce errors.</h5>\n",
    "\n",
    "<h5 style=\"color:Orange; font-style:italic; font-family:'Courier New'; font-weight:bold;\">📊 Model Evaluation: Validate model performance using appropriate metrics (e.g., accuracy, RMSE, F1-score).</h5>\n",
    "\n",
    "<h5 style=\"color:Orange; font-style:italic; font-family:'Courier New'; font-weight:bold;\">📊 Model Saving: Save the trained model for future use.</h5>\n",
    "\n",
    "<h5 style=\"color:Orange; font-style:italic; font-family:'Courier New'; font-weight:bold;\">📊 Model Deployment: Integrate the model into applications or systems for real-time predictions.</h5>\n",
    "\n",
    "<h5 style=\"color:Orange; font-style:italic; font-family:'Courier New'; font-weight:bold;\">📊 Model Monitoring & Maintenance: Continuously monitor performance and retrain as needed.</h5>\n"
   ]
  },
  {
   "cell_type": "markdown",
   "metadata": {},
   "source": [
    "<hr style=\"border-top: 3px solid blue;\">"
   ]
  },
  {
   "cell_type": "markdown",
   "metadata": {},
   "source": [
    "<h1 style=\"font-family:'Poppins', sans-serif; color:rgb(3, 105, 206);  text-align: center;\">Importing the Required Libraries</h1>"
   ]
  },
  {
   "cell_type": "code",
   "execution_count": 1,
   "metadata": {},
   "outputs": [],
   "source": [
    "import pandas as pd\n",
    "import numpy as np\n",
    "import matplotlib as plt\n",
    "import seaborn as sns\n",
    "import pymongo \n",
    "\n",
    "\n",
    "\n",
    "import os \n",
    "from dotenv import load_dotenv"
   ]
  },
  {
   "cell_type": "markdown",
   "metadata": {},
   "source": [
    "<h2 style=\"color:Lime;font-style:italic; font-family:Georgia\">About Features:</h2>"
   ]
  },
  {
   "cell_type": "markdown",
   "metadata": {},
   "source": [
    "<hr style=\"border-top: 3px solid blue;\">"
   ]
  },
  {
   "cell_type": "markdown",
   "metadata": {},
   "source": [
    "<h1 style=\"font-family:'Poppins', sans-serif; color:rgb(3, 105, 206);  text-align: center;\">Reading the Dataset from Database</h1>"
   ]
  },
  {
   "cell_type": "code",
   "execution_count": 2,
   "metadata": {},
   "outputs": [],
   "source": [
    "# Our MongoDB Atlas Connection url where clustername is Shipment\n",
    "\n",
    "Connection_url = os.getenv(\"MONGO_URL\")\n",
    "# Connect to MongoDB Atlas\n",
    "client = pymongo.MongoClient(Connection_url)\n",
    "\n",
    "\n",
    "# Select the database and collection\n",
    "db = client[\"new_DB\"]  # Replace with our database name\n",
    "collection = db[\"new_Collection\"]  # Replace with our collection name\n",
    "\n",
    "# Query data\n",
    "data = collection.find()\n",
    "\n",
    "# Convert data to DataFrame\n",
    "data = pd.DataFrame(list(data))"
   ]
  },
  {
   "cell_type": "markdown",
   "metadata": {},
   "source": [
    "<hr style=\"border-top: 3px solid blue;\">"
   ]
  },
  {
   "cell_type": "code",
   "execution_count": 3,
   "metadata": {},
   "outputs": [],
   "source": [
    "pd.set_option('display.max_rows', None)  \n",
    "pd.set_option('display.max_columns', None)"
   ]
  },
  {
   "cell_type": "code",
   "execution_count": 4,
   "metadata": {},
   "outputs": [
    {
     "data": {
      "text/html": [
       "<div>\n",
       "<style scoped>\n",
       "    .dataframe tbody tr th:only-of-type {\n",
       "        vertical-align: middle;\n",
       "    }\n",
       "\n",
       "    .dataframe tbody tr th {\n",
       "        vertical-align: top;\n",
       "    }\n",
       "\n",
       "    .dataframe thead th {\n",
       "        text-align: right;\n",
       "    }\n",
       "</style>\n",
       "<table border=\"1\" class=\"dataframe\">\n",
       "  <thead>\n",
       "    <tr style=\"text-align: right;\">\n",
       "      <th></th>\n",
       "      <th>_id</th>\n",
       "      <th>ID</th>\n",
       "      <th>Gender</th>\n",
       "      <th>Age</th>\n",
       "      <th>Customer Type</th>\n",
       "      <th>Type of Travel</th>\n",
       "      <th>Class</th>\n",
       "      <th>Flight Distance</th>\n",
       "      <th>Departure Delay</th>\n",
       "      <th>Arrival Delay</th>\n",
       "      <th>Departure and Arrival Time Convenience</th>\n",
       "      <th>Ease of Online Booking</th>\n",
       "      <th>Check-in Service</th>\n",
       "      <th>Online Boarding</th>\n",
       "      <th>Gate Location</th>\n",
       "      <th>On-board Service</th>\n",
       "      <th>Seat Comfort</th>\n",
       "      <th>Leg Room Service</th>\n",
       "      <th>Cleanliness</th>\n",
       "      <th>Food and Drink</th>\n",
       "      <th>In-flight Service</th>\n",
       "      <th>In-flight Wifi Service</th>\n",
       "      <th>In-flight Entertainment</th>\n",
       "      <th>Baggage Handling</th>\n",
       "      <th>Satisfaction</th>\n",
       "    </tr>\n",
       "  </thead>\n",
       "  <tbody>\n",
       "    <tr>\n",
       "      <th>0</th>\n",
       "      <td>67c9d07bcb4dbed121bcd9f6</td>\n",
       "      <td>10</td>\n",
       "      <td>Female</td>\n",
       "      <td>38</td>\n",
       "      <td>Returning</td>\n",
       "      <td>Business</td>\n",
       "      <td>Business</td>\n",
       "      <td>2822</td>\n",
       "      <td>13</td>\n",
       "      <td>0.0</td>\n",
       "      <td>2</td>\n",
       "      <td>5</td>\n",
       "      <td>3</td>\n",
       "      <td>5</td>\n",
       "      <td>2</td>\n",
       "      <td>5</td>\n",
       "      <td>4</td>\n",
       "      <td>5</td>\n",
       "      <td>4</td>\n",
       "      <td>2</td>\n",
       "      <td>5</td>\n",
       "      <td>2</td>\n",
       "      <td>5</td>\n",
       "      <td>5</td>\n",
       "      <td>Satisfied</td>\n",
       "    </tr>\n",
       "    <tr>\n",
       "      <th>1</th>\n",
       "      <td>67c9d07bcb4dbed121bcda0d</td>\n",
       "      <td>33</td>\n",
       "      <td>Female</td>\n",
       "      <td>33</td>\n",
       "      <td>First-time</td>\n",
       "      <td>Business</td>\n",
       "      <td>Business</td>\n",
       "      <td>173</td>\n",
       "      <td>22</td>\n",
       "      <td>28.0</td>\n",
       "      <td>2</td>\n",
       "      <td>2</td>\n",
       "      <td>5</td>\n",
       "      <td>2</td>\n",
       "      <td>5</td>\n",
       "      <td>3</td>\n",
       "      <td>2</td>\n",
       "      <td>3</td>\n",
       "      <td>2</td>\n",
       "      <td>2</td>\n",
       "      <td>5</td>\n",
       "      <td>2</td>\n",
       "      <td>2</td>\n",
       "      <td>5</td>\n",
       "      <td>Neutral or Dissatisfied</td>\n",
       "    </tr>\n",
       "    <tr>\n",
       "      <th>2</th>\n",
       "      <td>67c9d07bcb4dbed121bcda2e</td>\n",
       "      <td>66</td>\n",
       "      <td>Male</td>\n",
       "      <td>36</td>\n",
       "      <td>Returning</td>\n",
       "      <td>Business</td>\n",
       "      <td>Business</td>\n",
       "      <td>173</td>\n",
       "      <td>12</td>\n",
       "      <td>8.0</td>\n",
       "      <td>5</td>\n",
       "      <td>5</td>\n",
       "      <td>2</td>\n",
       "      <td>3</td>\n",
       "      <td>5</td>\n",
       "      <td>3</td>\n",
       "      <td>3</td>\n",
       "      <td>3</td>\n",
       "      <td>3</td>\n",
       "      <td>4</td>\n",
       "      <td>3</td>\n",
       "      <td>1</td>\n",
       "      <td>3</td>\n",
       "      <td>1</td>\n",
       "      <td>Neutral or Dissatisfied</td>\n",
       "    </tr>\n",
       "    <tr>\n",
       "      <th>3</th>\n",
       "      <td>67c9d07bcb4dbed121bcda3a</td>\n",
       "      <td>78</td>\n",
       "      <td>Male</td>\n",
       "      <td>58</td>\n",
       "      <td>Returning</td>\n",
       "      <td>Personal</td>\n",
       "      <td>Economy</td>\n",
       "      <td>173</td>\n",
       "      <td>0</td>\n",
       "      <td>4.0</td>\n",
       "      <td>4</td>\n",
       "      <td>4</td>\n",
       "      <td>1</td>\n",
       "      <td>4</td>\n",
       "      <td>3</td>\n",
       "      <td>4</td>\n",
       "      <td>2</td>\n",
       "      <td>3</td>\n",
       "      <td>2</td>\n",
       "      <td>2</td>\n",
       "      <td>5</td>\n",
       "      <td>4</td>\n",
       "      <td>2</td>\n",
       "      <td>4</td>\n",
       "      <td>Satisfied</td>\n",
       "    </tr>\n",
       "    <tr>\n",
       "      <th>4</th>\n",
       "      <td>67c9d07bcb4dbed121bcda42</td>\n",
       "      <td>86</td>\n",
       "      <td>Female</td>\n",
       "      <td>27</td>\n",
       "      <td>Returning</td>\n",
       "      <td>Personal</td>\n",
       "      <td>Economy</td>\n",
       "      <td>212</td>\n",
       "      <td>0</td>\n",
       "      <td>13.0</td>\n",
       "      <td>0</td>\n",
       "      <td>3</td>\n",
       "      <td>5</td>\n",
       "      <td>3</td>\n",
       "      <td>4</td>\n",
       "      <td>3</td>\n",
       "      <td>1</td>\n",
       "      <td>4</td>\n",
       "      <td>1</td>\n",
       "      <td>1</td>\n",
       "      <td>5</td>\n",
       "      <td>3</td>\n",
       "      <td>1</td>\n",
       "      <td>5</td>\n",
       "      <td>Neutral or Dissatisfied</td>\n",
       "    </tr>\n",
       "  </tbody>\n",
       "</table>\n",
       "</div>"
      ],
      "text/plain": [
       "                        _id  ID  Gender  Age Customer Type Type of Travel  \\\n",
       "0  67c9d07bcb4dbed121bcd9f6  10  Female   38     Returning       Business   \n",
       "1  67c9d07bcb4dbed121bcda0d  33  Female   33    First-time       Business   \n",
       "2  67c9d07bcb4dbed121bcda2e  66    Male   36     Returning       Business   \n",
       "3  67c9d07bcb4dbed121bcda3a  78    Male   58     Returning       Personal   \n",
       "4  67c9d07bcb4dbed121bcda42  86  Female   27     Returning       Personal   \n",
       "\n",
       "      Class  Flight Distance  Departure Delay  Arrival Delay  \\\n",
       "0  Business             2822               13            0.0   \n",
       "1  Business              173               22           28.0   \n",
       "2  Business              173               12            8.0   \n",
       "3   Economy              173                0            4.0   \n",
       "4   Economy              212                0           13.0   \n",
       "\n",
       "   Departure and Arrival Time Convenience  Ease of Online Booking  \\\n",
       "0                                       2                       5   \n",
       "1                                       2                       2   \n",
       "2                                       5                       5   \n",
       "3                                       4                       4   \n",
       "4                                       0                       3   \n",
       "\n",
       "   Check-in Service  Online Boarding  Gate Location  On-board Service  \\\n",
       "0                 3                5              2                 5   \n",
       "1                 5                2              5                 3   \n",
       "2                 2                3              5                 3   \n",
       "3                 1                4              3                 4   \n",
       "4                 5                3              4                 3   \n",
       "\n",
       "   Seat Comfort  Leg Room Service  Cleanliness  Food and Drink  \\\n",
       "0             4                 5            4               2   \n",
       "1             2                 3            2               2   \n",
       "2             3                 3            3               4   \n",
       "3             2                 3            2               2   \n",
       "4             1                 4            1               1   \n",
       "\n",
       "   In-flight Service  In-flight Wifi Service  In-flight Entertainment  \\\n",
       "0                  5                       2                        5   \n",
       "1                  5                       2                        2   \n",
       "2                  3                       1                        3   \n",
       "3                  5                       4                        2   \n",
       "4                  5                       3                        1   \n",
       "\n",
       "   Baggage Handling             Satisfaction  \n",
       "0                 5                Satisfied  \n",
       "1                 5  Neutral or Dissatisfied  \n",
       "2                 1  Neutral or Dissatisfied  \n",
       "3                 4                Satisfied  \n",
       "4                 5  Neutral or Dissatisfied  "
      ]
     },
     "execution_count": 4,
     "metadata": {},
     "output_type": "execute_result"
    }
   ],
   "source": [
    "data.head()"
   ]
  },
  {
   "cell_type": "code",
   "execution_count": 5,
   "metadata": {},
   "outputs": [],
   "source": [
    "data.drop(columns=\"_id\",inplace=True)"
   ]
  },
  {
   "cell_type": "code",
   "execution_count": 7,
   "metadata": {},
   "outputs": [
    {
     "data": {
      "text/html": [
       "<div>\n",
       "<style scoped>\n",
       "    .dataframe tbody tr th:only-of-type {\n",
       "        vertical-align: middle;\n",
       "    }\n",
       "\n",
       "    .dataframe tbody tr th {\n",
       "        vertical-align: top;\n",
       "    }\n",
       "\n",
       "    .dataframe thead th {\n",
       "        text-align: right;\n",
       "    }\n",
       "</style>\n",
       "<table border=\"1\" class=\"dataframe\">\n",
       "  <thead>\n",
       "    <tr style=\"text-align: right;\">\n",
       "      <th></th>\n",
       "      <th>ID</th>\n",
       "      <th>Gender</th>\n",
       "      <th>Age</th>\n",
       "      <th>Customer Type</th>\n",
       "      <th>Type of Travel</th>\n",
       "      <th>Class</th>\n",
       "      <th>Flight Distance</th>\n",
       "      <th>Departure Delay</th>\n",
       "      <th>Arrival Delay</th>\n",
       "      <th>Departure and Arrival Time Convenience</th>\n",
       "      <th>Ease of Online Booking</th>\n",
       "      <th>Check-in Service</th>\n",
       "      <th>Online Boarding</th>\n",
       "      <th>Gate Location</th>\n",
       "      <th>On-board Service</th>\n",
       "      <th>Seat Comfort</th>\n",
       "      <th>Leg Room Service</th>\n",
       "      <th>Cleanliness</th>\n",
       "      <th>Food and Drink</th>\n",
       "      <th>In-flight Service</th>\n",
       "      <th>In-flight Wifi Service</th>\n",
       "      <th>In-flight Entertainment</th>\n",
       "      <th>Baggage Handling</th>\n",
       "      <th>Satisfaction</th>\n",
       "    </tr>\n",
       "  </thead>\n",
       "  <tbody>\n",
       "    <tr>\n",
       "      <th>0</th>\n",
       "      <td>10</td>\n",
       "      <td>Female</td>\n",
       "      <td>38</td>\n",
       "      <td>Returning</td>\n",
       "      <td>Business</td>\n",
       "      <td>Business</td>\n",
       "      <td>2822</td>\n",
       "      <td>13</td>\n",
       "      <td>0.0</td>\n",
       "      <td>2</td>\n",
       "      <td>5</td>\n",
       "      <td>3</td>\n",
       "      <td>5</td>\n",
       "      <td>2</td>\n",
       "      <td>5</td>\n",
       "      <td>4</td>\n",
       "      <td>5</td>\n",
       "      <td>4</td>\n",
       "      <td>2</td>\n",
       "      <td>5</td>\n",
       "      <td>2</td>\n",
       "      <td>5</td>\n",
       "      <td>5</td>\n",
       "      <td>Satisfied</td>\n",
       "    </tr>\n",
       "    <tr>\n",
       "      <th>1</th>\n",
       "      <td>33</td>\n",
       "      <td>Female</td>\n",
       "      <td>33</td>\n",
       "      <td>First-time</td>\n",
       "      <td>Business</td>\n",
       "      <td>Business</td>\n",
       "      <td>173</td>\n",
       "      <td>22</td>\n",
       "      <td>28.0</td>\n",
       "      <td>2</td>\n",
       "      <td>2</td>\n",
       "      <td>5</td>\n",
       "      <td>2</td>\n",
       "      <td>5</td>\n",
       "      <td>3</td>\n",
       "      <td>2</td>\n",
       "      <td>3</td>\n",
       "      <td>2</td>\n",
       "      <td>2</td>\n",
       "      <td>5</td>\n",
       "      <td>2</td>\n",
       "      <td>2</td>\n",
       "      <td>5</td>\n",
       "      <td>Neutral or Dissatisfied</td>\n",
       "    </tr>\n",
       "    <tr>\n",
       "      <th>2</th>\n",
       "      <td>66</td>\n",
       "      <td>Male</td>\n",
       "      <td>36</td>\n",
       "      <td>Returning</td>\n",
       "      <td>Business</td>\n",
       "      <td>Business</td>\n",
       "      <td>173</td>\n",
       "      <td>12</td>\n",
       "      <td>8.0</td>\n",
       "      <td>5</td>\n",
       "      <td>5</td>\n",
       "      <td>2</td>\n",
       "      <td>3</td>\n",
       "      <td>5</td>\n",
       "      <td>3</td>\n",
       "      <td>3</td>\n",
       "      <td>3</td>\n",
       "      <td>3</td>\n",
       "      <td>4</td>\n",
       "      <td>3</td>\n",
       "      <td>1</td>\n",
       "      <td>3</td>\n",
       "      <td>1</td>\n",
       "      <td>Neutral or Dissatisfied</td>\n",
       "    </tr>\n",
       "    <tr>\n",
       "      <th>3</th>\n",
       "      <td>78</td>\n",
       "      <td>Male</td>\n",
       "      <td>58</td>\n",
       "      <td>Returning</td>\n",
       "      <td>Personal</td>\n",
       "      <td>Economy</td>\n",
       "      <td>173</td>\n",
       "      <td>0</td>\n",
       "      <td>4.0</td>\n",
       "      <td>4</td>\n",
       "      <td>4</td>\n",
       "      <td>1</td>\n",
       "      <td>4</td>\n",
       "      <td>3</td>\n",
       "      <td>4</td>\n",
       "      <td>2</td>\n",
       "      <td>3</td>\n",
       "      <td>2</td>\n",
       "      <td>2</td>\n",
       "      <td>5</td>\n",
       "      <td>4</td>\n",
       "      <td>2</td>\n",
       "      <td>4</td>\n",
       "      <td>Satisfied</td>\n",
       "    </tr>\n",
       "    <tr>\n",
       "      <th>4</th>\n",
       "      <td>86</td>\n",
       "      <td>Female</td>\n",
       "      <td>27</td>\n",
       "      <td>Returning</td>\n",
       "      <td>Personal</td>\n",
       "      <td>Economy</td>\n",
       "      <td>212</td>\n",
       "      <td>0</td>\n",
       "      <td>13.0</td>\n",
       "      <td>0</td>\n",
       "      <td>3</td>\n",
       "      <td>5</td>\n",
       "      <td>3</td>\n",
       "      <td>4</td>\n",
       "      <td>3</td>\n",
       "      <td>1</td>\n",
       "      <td>4</td>\n",
       "      <td>1</td>\n",
       "      <td>1</td>\n",
       "      <td>5</td>\n",
       "      <td>3</td>\n",
       "      <td>1</td>\n",
       "      <td>5</td>\n",
       "      <td>Neutral or Dissatisfied</td>\n",
       "    </tr>\n",
       "  </tbody>\n",
       "</table>\n",
       "</div>"
      ],
      "text/plain": [
       "   ID  Gender  Age Customer Type Type of Travel     Class  Flight Distance  \\\n",
       "0  10  Female   38     Returning       Business  Business             2822   \n",
       "1  33  Female   33    First-time       Business  Business              173   \n",
       "2  66    Male   36     Returning       Business  Business              173   \n",
       "3  78    Male   58     Returning       Personal   Economy              173   \n",
       "4  86  Female   27     Returning       Personal   Economy              212   \n",
       "\n",
       "   Departure Delay  Arrival Delay  Departure and Arrival Time Convenience  \\\n",
       "0               13            0.0                                       2   \n",
       "1               22           28.0                                       2   \n",
       "2               12            8.0                                       5   \n",
       "3                0            4.0                                       4   \n",
       "4                0           13.0                                       0   \n",
       "\n",
       "   Ease of Online Booking  Check-in Service  Online Boarding  Gate Location  \\\n",
       "0                       5                 3                5              2   \n",
       "1                       2                 5                2              5   \n",
       "2                       5                 2                3              5   \n",
       "3                       4                 1                4              3   \n",
       "4                       3                 5                3              4   \n",
       "\n",
       "   On-board Service  Seat Comfort  Leg Room Service  Cleanliness  \\\n",
       "0                 5             4                 5            4   \n",
       "1                 3             2                 3            2   \n",
       "2                 3             3                 3            3   \n",
       "3                 4             2                 3            2   \n",
       "4                 3             1                 4            1   \n",
       "\n",
       "   Food and Drink  In-flight Service  In-flight Wifi Service  \\\n",
       "0               2                  5                       2   \n",
       "1               2                  5                       2   \n",
       "2               4                  3                       1   \n",
       "3               2                  5                       4   \n",
       "4               1                  5                       3   \n",
       "\n",
       "   In-flight Entertainment  Baggage Handling             Satisfaction  \n",
       "0                        5                 5                Satisfied  \n",
       "1                        2                 5  Neutral or Dissatisfied  \n",
       "2                        3                 1  Neutral or Dissatisfied  \n",
       "3                        2                 4                Satisfied  \n",
       "4                        1                 5  Neutral or Dissatisfied  "
      ]
     },
     "execution_count": 7,
     "metadata": {},
     "output_type": "execute_result"
    }
   ],
   "source": [
    "data.head()"
   ]
  },
  {
   "cell_type": "markdown",
   "metadata": {},
   "source": [
    "<h1 style=\"font-family:'Poppins', sans-serif; color:rgb(3, 105, 206);  text-align: center;\">Data Exploration</h1>"
   ]
  },
  {
   "cell_type": "markdown",
   "metadata": {},
   "source": [
    "<h2 style=\"font-family: 'Arial', sans-serif; font-size: 1.5em; font-weight: bold; color:rgb(179, 14, 143);\">✨Overview of Top and Bottom Rows of the Dataset</h2>\n"
   ]
  },
  {
   "cell_type": "markdown",
   "metadata": {},
   "source": [
    "<h2 style=\"font-family: 'Arial', sans-serif; font-size: 1.5em; font-weight: bold; color:rgb(179, 14, 143);\">✨Checking for Columns/Features Present</h2>\n"
   ]
  },
  {
   "cell_type": "code",
   "execution_count": null,
   "metadata": {},
   "outputs": [],
   "source": []
  },
  {
   "cell_type": "markdown",
   "metadata": {},
   "source": [
    "<h2 style=\"font-family: 'Arial', sans-serif; font-size: 1.5em; font-weight: bold; color:rgb(179, 14, 143);\">✨Random Sample of the Data</h2>"
   ]
  },
  {
   "cell_type": "code",
   "execution_count": null,
   "metadata": {},
   "outputs": [],
   "source": []
  },
  {
   "cell_type": "markdown",
   "metadata": {},
   "source": [
    "<h2 style=\"font-family: 'Arial', sans-serif; font-size: 1.5em; font-weight: bold; color:rgb(179, 14, 143);\">✨Checking DataType and  Information of the Dataset</h2>"
   ]
  },
  {
   "cell_type": "markdown",
   "metadata": {},
   "source": []
  },
  {
   "cell_type": "markdown",
   "metadata": {},
   "source": [
    "<h2 style=\"font-family: 'Arial', sans-serif; font-size: 1.5em; font-weight: bold; color:rgb(179, 14, 143);\">✨Checking for Null Values?</h2>"
   ]
  },
  {
   "cell_type": "code",
   "execution_count": null,
   "metadata": {},
   "outputs": [],
   "source": []
  },
  {
   "cell_type": "markdown",
   "metadata": {},
   "source": [
    "<h2 style=\"font-family: 'Arial', sans-serif; font-size: 1.5em; font-weight: bold; color:rgb(179, 14, 143);\">✨Checking for Duplicate Values?</h2>"
   ]
  },
  {
   "cell_type": "code",
   "execution_count": null,
   "metadata": {},
   "outputs": [],
   "source": []
  },
  {
   "cell_type": "code",
   "execution_count": null,
   "metadata": {},
   "outputs": [],
   "source": []
  },
  {
   "cell_type": "markdown",
   "metadata": {},
   "source": [
    "<h2 style=\"font-family: 'Arial', sans-serif; font-size: 1.5em; font-weight: bold; color:rgb(179, 14, 143);\">✨Checking for Number of Unique Values for each Column</h2>"
   ]
  },
  {
   "cell_type": "code",
   "execution_count": null,
   "metadata": {},
   "outputs": [],
   "source": []
  },
  {
   "cell_type": "markdown",
   "metadata": {},
   "source": [
    "<h2 style=\"font-family: 'Arial', sans-serif; font-size: 1.5em; font-weight: bold; color: rgb(179, 14, 143);\">✨ Identifying Columns with Fewer than 30 Unique Values</h2>\n"
   ]
  },
  {
   "cell_type": "code",
   "execution_count": null,
   "metadata": {},
   "outputs": [],
   "source": []
  },
  {
   "cell_type": "markdown",
   "metadata": {},
   "source": [
    "<h2 style=\"font-family: 'Arial', sans-serif; font-size: 1.5em; font-weight: bold; color: rgb(179, 14, 143);\">✨Checking for value_counts()</h2>\n"
   ]
  },
  {
   "cell_type": "code",
   "execution_count": null,
   "metadata": {},
   "outputs": [],
   "source": []
  },
  {
   "cell_type": "code",
   "execution_count": null,
   "metadata": {},
   "outputs": [],
   "source": []
  },
  {
   "cell_type": "markdown",
   "metadata": {},
   "source": [
    "<h2 style=\"font-family: 'Arial', sans-serif; font-size: 1.5em; font-weight: bold; color:rgb(179, 14, 143);\">✨ Removing Unnecessary Features to Enhance Dataset Quality</h2>\n"
   ]
  },
  {
   "cell_type": "code",
   "execution_count": null,
   "metadata": {},
   "outputs": [],
   "source": []
  },
  {
   "cell_type": "markdown",
   "metadata": {},
   "source": [
    "<h2 style=\"font-family: 'Arial', sans-serif; font-size: 1.5em; font-weight: bold; color: rgb(179, 14, 143);\">✨ Perform Type Casting of Data (DataType Conversion) if Necessary</h2>\n"
   ]
  },
  {
   "cell_type": "code",
   "execution_count": null,
   "metadata": {},
   "outputs": [],
   "source": []
  },
  {
   "cell_type": "code",
   "execution_count": null,
   "metadata": {},
   "outputs": [],
   "source": []
  },
  {
   "cell_type": "markdown",
   "metadata": {},
   "source": [
    "<h2 style=\"font-family: 'Arial', sans-serif; font-size: 1.5em; font-weight: bold; color: rgb(179, 14, 143);\">✨ Summary Statistics for Numerical Data</h2>\n"
   ]
  },
  {
   "cell_type": "code",
   "execution_count": null,
   "metadata": {},
   "outputs": [],
   "source": []
  },
  {
   "cell_type": "code",
   "execution_count": null,
   "metadata": {},
   "outputs": [],
   "source": []
  },
  {
   "cell_type": "markdown",
   "metadata": {},
   "source": [
    "<h2 style=\"font-family: 'Arial', sans-serif; font-size: 1.5em; font-weight: bold; color: rgb(179, 14, 143);\">✨ Summary Statistics for Categorical Data</h2>\n"
   ]
  },
  {
   "cell_type": "code",
   "execution_count": null,
   "metadata": {},
   "outputs": [],
   "source": []
  },
  {
   "cell_type": "code",
   "execution_count": null,
   "metadata": {},
   "outputs": [],
   "source": []
  },
  {
   "cell_type": "markdown",
   "metadata": {},
   "source": [
    "<h2 style=\"font-family: 'Arial', sans-serif; font-size: 1.5em; font-weight: bold; color: rgb(179, 14, 143);\">✨ Segregate Data into Numerical, Categorical, and Datetime Columns</h2>\n"
   ]
  },
  {
   "cell_type": "code",
   "execution_count": null,
   "metadata": {},
   "outputs": [],
   "source": []
  },
  {
   "cell_type": "code",
   "execution_count": null,
   "metadata": {},
   "outputs": [],
   "source": []
  },
  {
   "cell_type": "code",
   "execution_count": null,
   "metadata": {},
   "outputs": [],
   "source": []
  },
  {
   "cell_type": "markdown",
   "metadata": {},
   "source": [
    "example for you.... use the select_dtype() do segregation..."
   ]
  },
  {
   "cell_type": "raw",
   "metadata": {
    "vscode": {
     "languageId": "raw"
    }
   },
   "source": [
    "\n",
    "# Segregate columns\n",
    "numerical_columns = df.select_dtypes(include=['number']).columns.tolist()\n",
    "categorical_columns = df.select_dtypes(include=['object', 'category']).columns.tolist()\n",
    "datetime_columns = df.select_dtypes(include=['datetime']).columns.tolist()\n",
    "\n",
    "# Display the results\n",
    "print(\"Numerical Columns:\", numerical_columns)\n",
    "print(\"Categorical Columns:\", categorical_columns)\n",
    "print(\"Datetime Columns:\", datetime_columns)\n"
   ]
  },
  {
   "cell_type": "markdown",
   "metadata": {},
   "source": [
    "<hr style=\"border-top: 3px solid blue;\">"
   ]
  },
  {
   "cell_type": "markdown",
   "metadata": {},
   "source": []
  }
 ],
 "metadata": {
  "kernelspec": {
   "display_name": "Python 3",
   "language": "python",
   "name": "python3"
  },
  "language_info": {
   "codemirror_mode": {
    "name": "ipython",
    "version": 3
   },
   "file_extension": ".py",
   "mimetype": "text/x-python",
   "name": "python",
   "nbconvert_exporter": "python",
   "pygments_lexer": "ipython3",
   "version": "3.9.0"
  }
 },
 "nbformat": 4,
 "nbformat_minor": 2
}
